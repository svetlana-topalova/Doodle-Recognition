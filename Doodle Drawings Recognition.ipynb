{
 "cells": [
  {
   "cell_type": "code",
   "execution_count": 1,
   "metadata": {},
   "outputs": [],
   "source": [
    "import numpy as np \n",
    "import pandas as pd \n",
    "from glob import glob\n",
    "import ast\n",
    "import matplotlib.pyplot as plt\n",
    "import matplotlib.style as style\n",
    "%matplotlib inline\n",
    "from ast import literal_eval\n",
    "import os\n",
    "import pickle\n",
    "import cv2\n",
    "import time\n",
    "import random \n",
    "import itertools"
   ]
  },
  {
   "cell_type": "code",
   "execution_count": 2,
   "metadata": {},
   "outputs": [],
   "source": [
    "from sklearn.model_selection import train_test_split\n",
    "\n",
    "from sklearn.decomposition import PCA\n",
    "from sklearn.neighbors import KNeighborsClassifier\n",
    "from sklearn.svm import SVC\n",
    "from sklearn.gaussian_process.kernels import RBF\n",
    "from sklearn.tree import DecisionTreeClassifier\n",
    "from sklearn.ensemble import RandomForestClassifier, AdaBoostClassifier\n",
    "from sklearn.naive_bayes import GaussianNB\n",
    "from sklearn.discriminant_analysis import QuadraticDiscriminantAnalysis\n",
    "from sklearn.linear_model import LogisticRegression\n",
    "from sklearn.svm import LinearSVC\n",
    "\n",
    "from sklearn.model_selection import GridSearchCV\n",
    "from sklearn.metrics import confusion_matrix\n",
    "from sklearn.metrics import f1_score\n",
    "from sklearn.model_selection import learning_curve"
   ]
  },
  {
   "cell_type": "markdown",
   "metadata": {},
   "source": [
    "# Doodle Drawings Recognition\n",
    "\n",
    "## Author: Svetlana Topalova\n",
    "\n",
    "### Abstract\n",
    "\n",
    "In this project we will take a small subset of Doodle drawing images from 10 catagories. We will try to train a model which recognizes them. We will perform tuning on the classifier in order to score better results. And finally we will measure the model performance.\n"
   ]
  },
  {
   "cell_type": "markdown",
   "metadata": {},
   "source": [
    "### Overview\n",
    "\n",
    "\"Quick, Draw!\" was released as an experimental game to educate the public in a playful way about how AI works. The game prompts users to draw an image depicting a certain category, such as ”banana,” “table,” etc. The game generated more than 1B drawings, of which a subset was publicly released as the basis for this competition’s training set. That subset contains 50M drawings encompassing 340 label categories.\n",
    "\n",
    "<img src=\"files/what-does-a-bee-look-like-1.png\" width=\"400\">\n",
    "\n",
    "### Data exploration\n",
    "\n",
    "The data we use is taken from https://www.kaggle.com/c/quickdraw-doodle-recognition/data\n",
    "\n",
    "**Attributes and their explanation**: \n",
    "1. key_id: Just a ID to identify each image. \n",
    "1. countrycode: two letter country code. More: https://en.wikipedia.org/wiki/ISO_3166-1_alpha-2 \n",
    "1. drawing: vectors of the doodle.\n",
    "1. recognized: Whether the word was recognized by the game. If it is not recongnized by the game we can still use this labelled data for training the model.\n",
    "1. time-stamp: Time \n",
    "1. word: the response class\n",
    "\n",
    "[ \n",
    "[  // First stroke \n",
    "[x0, x1, x2, x3, ...],\n",
    "[y0, y1, y2, y3, ...],\n",
    "[t0, t1, t2, t3, ...]\n",
    "],\n",
    "[  // Second stroke\n",
    "[x0, x1, x2, x3, ...],\n",
    "[y0, y1, y2, y3, ...],\n",
    "[t0, t1, t2, t3, ...]\n",
    "],\n",
    "... // Additional strokes\n",
    "]\n",
    "\n",
    "Where x and y are the pixel coordinates, and t is the time in milliseconds since the first point. x and y are real-valued while t is an integer. The raw drawings can have vastly different bounding boxes and number of points due to the different devices used for display and input. \n",
    "In simplified data time was removed. \n",
    "\n",
    "**We will used the simplified data which is divided into csv files by class.**"
   ]
  },
  {
   "cell_type": "markdown",
   "metadata": {},
   "source": [
    "#### Read data\n",
    "\n",
    "We will use 2500 samples per category for 10 random categories."
   ]
  },
  {
   "cell_type": "code",
   "execution_count": 3,
   "metadata": {},
   "outputs": [],
   "source": [
    "class_files = os.listdir(\"input\")\n",
    "classes = {x[:-4]:i for i, x in enumerate(class_files)}\n",
    "to_class = {i:x[:-4].replace(\" \", \"_\") for i, x in enumerate(class_files)}"
   ]
  },
  {
   "cell_type": "code",
   "execution_count": 5,
   "metadata": {},
   "outputs": [],
   "source": [
    "BATCHSIZE = 2500"
   ]
  },
  {
   "cell_type": "code",
   "execution_count": 6,
   "metadata": {},
   "outputs": [
    {
     "name": "stdout",
     "output_type": "stream",
     "text": [
      "['suitcase.csv', 'dumbbell.csv', 'leg.csv', 'firetruck.csv', 'stove.csv', 'mouth.csv', 'shark.csv', 'potato.csv', 'penguin.csv', 'streetlight.csv']\n"
     ]
    }
   ],
   "source": [
    "categories = random.sample(class_files, 10)\n",
    "print(categories)"
   ]
  },
  {
   "cell_type": "code",
   "execution_count": 7,
   "metadata": {},
   "outputs": [],
   "source": [
    "drawings_dfs = [pd.read_csv(\"input/\" + x, nrows=BATCHSIZE)[[\"word\", 'recognized', \"drawing\"]] for x in categories]"
   ]
  },
  {
   "cell_type": "code",
   "execution_count": 8,
   "metadata": {},
   "outputs": [],
   "source": [
    "drawings_df = pd.concat(drawings_dfs)"
   ]
  },
  {
   "cell_type": "code",
   "execution_count": 9,
   "metadata": {},
   "outputs": [],
   "source": [
    "def strokes_to_img(in_strokes, image_size = (48, 48)):\n",
    "    in_strokes = eval(in_strokes)\n",
    "    # make an agg figure\n",
    "    fig, ax = plt.subplots()\n",
    "    for x,y in in_strokes:\n",
    "        ax.plot(x, y, linewidth=7.) \n",
    "    ax.axis('off')\n",
    "    ax.axis('equal')\n",
    "    #ax.invert_yaxis()\n",
    "    fig.canvas.draw()\n",
    "    \n",
    "    # grab the pixel buffer and dump it into a numpy array\n",
    "    X = np.array(fig.canvas.renderer._renderer)\n",
    "    plt.close(fig)\n",
    "    return (cv2.resize(X, image_size) / 255.)[::-1]"
   ]
  },
  {
   "cell_type": "markdown",
   "metadata": {},
   "source": [
    "Let's see how the drawings look like."
   ]
  },
  {
   "cell_type": "code",
   "execution_count": 55,
   "metadata": {
    "scrolled": true
   },
   "outputs": [
    {
     "data": {
      "image/png": "[encoded data removed]",
      "text/plain": [
       "<Figure size 576x576 with 4 Axes>"
      ]
     },
     "metadata": {},
     "output_type": "display_data"
    },
    {
     "data": {
      "image/png": "[encoded data removed]",
      "text/plain": [
       "<Figure size 576x576 with 4 Axes>"
      ]
     },
     "metadata": {},
     "output_type": "display_data"
    },
    {
     "data": {
      "image/png": "[encoded data removed]",
      "text/plain": [
       "<Figure size 576x576 with 4 Axes>"
      ]
     },
     "metadata": {},
     "output_type": "display_data"
    }
   ],
   "source": [
    "for j in range(3):\n",
    "    plt.figure(figsize=(8,8))\n",
    "    for i in range(4):\n",
    "        plt.subplot(1,4,i+1)\n",
    "        drawing_data = drawings_df.iloc[j*BATCHSIZE+i]\n",
    "        drawing = strokes_to_img(drawing_data.drawing, image_size = (96,96))\n",
    "        plt.imshow(drawing)\n",
    "        plt.title(drawing_data.word)\n",
    "        plt.axis('off')\n",
    "        #plt.gca().invert_yaxis()\n",
    "        #plt.axis('equal');\n",
    "    plt.show()"
   ]
  },
  {
   "cell_type": "markdown",
   "metadata": {},
   "source": [
    "### Data Analysis\n",
    "\n",
    "Let's see the hardest (the least recognizable) drawing categories:"
   ]
  },
  {
   "cell_type": "code",
   "execution_count": 60,
   "metadata": {},
   "outputs": [
    {
     "data": {
      "text/html": [
       "<div>\n",
       "<style scoped>\n",
       "    .dataframe tbody tr th:only-of-type {\n",
       "        vertical-align: middle;\n",
       "    }\n",
       "\n",
       "    .dataframe tbody tr th {\n",
       "        vertical-align: top;\n",
       "    }\n",
       "\n",
       "    .dataframe thead th {\n",
       "        text-align: right;\n",
       "    }\n",
       "</style>\n",
       "<table border=\"1\" class=\"dataframe\">\n",
       "  <thead>\n",
       "    <tr style=\"text-align: right;\">\n",
       "      <th></th>\n",
       "      <th>word</th>\n",
       "      <th>count</th>\n",
       "    </tr>\n",
       "  </thead>\n",
       "  <tbody>\n",
       "    <tr>\n",
       "      <th>7</th>\n",
       "      <td>stove</td>\n",
       "      <td>2046</td>\n",
       "    </tr>\n",
       "    <tr>\n",
       "      <th>0</th>\n",
       "      <td>dumbbell</td>\n",
       "      <td>2125</td>\n",
       "    </tr>\n",
       "    <tr>\n",
       "      <th>1</th>\n",
       "      <td>firetruck</td>\n",
       "      <td>2259</td>\n",
       "    </tr>\n",
       "    <tr>\n",
       "      <th>4</th>\n",
       "      <td>penguin</td>\n",
       "      <td>2281</td>\n",
       "    </tr>\n",
       "    <tr>\n",
       "      <th>5</th>\n",
       "      <td>potato</td>\n",
       "      <td>2333</td>\n",
       "    </tr>\n",
       "    <tr>\n",
       "      <th>3</th>\n",
       "      <td>mouth</td>\n",
       "      <td>2337</td>\n",
       "    </tr>\n",
       "    <tr>\n",
       "      <th>6</th>\n",
       "      <td>shark</td>\n",
       "      <td>2365</td>\n",
       "    </tr>\n",
       "    <tr>\n",
       "      <th>2</th>\n",
       "      <td>leg</td>\n",
       "      <td>2375</td>\n",
       "    </tr>\n",
       "    <tr>\n",
       "      <th>9</th>\n",
       "      <td>suitcase</td>\n",
       "      <td>2386</td>\n",
       "    </tr>\n",
       "    <tr>\n",
       "      <th>8</th>\n",
       "      <td>streetlight</td>\n",
       "      <td>2392</td>\n",
       "    </tr>\n",
       "  </tbody>\n",
       "</table>\n",
       "</div>"
      ],
      "text/plain": [
       "          word  count\n",
       "7        stove   2046\n",
       "0     dumbbell   2125\n",
       "1    firetruck   2259\n",
       "4      penguin   2281\n",
       "5       potato   2333\n",
       "3        mouth   2337\n",
       "6        shark   2365\n",
       "2          leg   2375\n",
       "9     suitcase   2386\n",
       "8  streetlight   2392"
      ]
     },
     "execution_count": 60,
     "metadata": {},
     "output_type": "execute_result"
    }
   ],
   "source": [
    "recognized_drawings = drawings_df.groupby('word')[\"recognized\"].count().reset_index(name='count').sort_values(['count'])\n",
    "\n",
    "recognized_drawings"
   ]
  },
  {
   "cell_type": "markdown",
   "metadata": {},
   "source": [
    "### Data Cleaning \n",
    "\n",
    "In order to train the model with the best data we will remove unrecognized images. "
   ]
  },
  {
   "cell_type": "code",
   "execution_count": 12,
   "metadata": {},
   "outputs": [
    {
     "name": "stdout",
     "output_type": "stream",
     "text": [
      "(22899, 3)\n"
     ]
    }
   ],
   "source": [
    "drawings_df = drawings_df[drawings_df.recognized == True]\n",
    "print(drawings_df.shape)"
   ]
  },
  {
   "cell_type": "markdown",
   "metadata": {},
   "source": [
    "### Data Preprocessing \n",
    "\n",
    "We need more effecient method to read the images so we will convert them to black and white image. This way each image will have only one channel instead of 3 channels (RGB). Also we don't need shades so we will normalize the image into binary one."
   ]
  },
  {
   "cell_type": "code",
   "execution_count": 13,
   "metadata": {},
   "outputs": [],
   "source": [
    "IMAGE_BASE_SIZE = 256\n",
    "IMAGE_SIZE = 48 "
   ]
  },
  {
   "cell_type": "code",
   "execution_count": 14,
   "metadata": {},
   "outputs": [],
   "source": [
    "def convert_to_black_and_white(image):\n",
    "    red = image[:, :, 0]\n",
    "    green = image[:, :, 1]\n",
    "    blue = image[:, :, 2]\n",
    "    image_grayscale = np.mean([red, green, blue], axis=0)\n",
    "    image_grayscale[image_grayscale >= 1.] = 1\n",
    "    image_grayscale[image_grayscale < 1.] = 0\n",
    "    return image_grayscale.astype(np.uint8)\n",
    "\n",
    "def strokes_to_black_and_white_img(in_strokes):\n",
    "    image = strokes_to_img(in_strokes)\n",
    "    return convert_to_black_and_white(image)\n",
    "    \n",
    "def df_to_image_array(df):\n",
    "    out_imgs = list(map(strokes_to_black_and_white_img, df[\"drawing\"]))\n",
    "    X = np.array(out_imgs)\n",
    "    return X"
   ]
  },
  {
   "cell_type": "code",
   "execution_count": 15,
   "metadata": {},
   "outputs": [
    {
     "name": "stdout",
     "output_type": "stream",
     "text": [
      "(22899,)\n",
      "['dumbbell' 'firetruck' 'leg' 'mouth' 'penguin' 'potato' 'shark' 'stove'\n",
      " 'streetlight' 'suitcase']\n"
     ]
    }
   ],
   "source": [
    "labels = np.asarray(drawings_df.word)\n",
    "print(labels.shape)\n",
    "print(np.unique(labels))"
   ]
  },
  {
   "cell_type": "code",
   "execution_count": 16,
   "metadata": {},
   "outputs": [
    {
     "name": "stdout",
     "output_type": "stream",
     "text": [
      "22899\n"
     ]
    }
   ],
   "source": [
    "X = df_to_image_array(drawings_df)\n",
    "print(X.shape[0])"
   ]
  },
  {
   "cell_type": "code",
   "execution_count": 17,
   "metadata": {},
   "outputs": [],
   "source": [
    "X_ravel = np.asarray([x.ravel() for x in X])"
   ]
  },
  {
   "cell_type": "code",
   "execution_count": 18,
   "metadata": {},
   "outputs": [
    {
     "data": {
      "text/plain": [
       "(22899, 2304)"
      ]
     },
     "execution_count": 18,
     "metadata": {},
     "output_type": "execute_result"
    }
   ],
   "source": [
    "X_ravel.shape"
   ]
  },
  {
   "cell_type": "code",
   "execution_count": 19,
   "metadata": {},
   "outputs": [
    {
     "data": {
      "image/png": "[encoded data removed]",
      "text/plain": [
       "<Figure size 432x288 with 12 Axes>"
      ]
     },
     "metadata": {},
     "output_type": "display_data"
    }
   ],
   "source": [
    "for i in range(12):\n",
    "    plt.subplot(3,4,i+1)\n",
    "    image = X[i*2000]\n",
    "    plt.imshow(image,  cmap='gray')\n",
    "    plt.title(labels[i*2000])\n",
    "    plt.axis('off')\n",
    "plt.show()"
   ]
  },
  {
   "cell_type": "markdown",
   "metadata": {},
   "source": [
    "### Data splitting\n",
    "\n",
    "We will split the data into training - 60%, validation - 10% and testing - 30%. Our data is not shuffled so we need to set the parameter stratify to the data labels."
   ]
  },
  {
   "cell_type": "code",
   "execution_count": 21,
   "metadata": {},
   "outputs": [
    {
     "data": {
      "text/plain": [
       "(22899,)"
      ]
     },
     "execution_count": 21,
     "metadata": {},
     "output_type": "execute_result"
    }
   ],
   "source": [
    "labels.shape"
   ]
  },
  {
   "cell_type": "code",
   "execution_count": 22,
   "metadata": {},
   "outputs": [],
   "source": [
    "x, x_test, y, y_test = train_test_split(X_ravel,labels,test_size=0.3,train_size=0.7, stratify=labels)\n",
    "x_train, x_cv, y_train, y_cv = train_test_split(x,y,test_size = 0.15,train_size =0.85, stratify=y)"
   ]
  },
  {
   "cell_type": "code",
   "execution_count": 23,
   "metadata": {},
   "outputs": [
    {
     "name": "stdout",
     "output_type": "stream",
     "text": [
      "(22899, 2304) (13624, 2304) (6870, 2304) (2405, 2304)\n"
     ]
    }
   ],
   "source": [
    "print(X_ravel.shape,x_train.shape, x_test.shape, x_cv.shape)"
   ]
  },
  {
   "cell_type": "markdown",
   "metadata": {},
   "source": [
    "### PCA\n",
    "\n",
    "PCA is **the simplest of the true eigenvector-based multivariate analyses**. Often, its operation can be thought of as **revealing the internal structure of the data in a way that best explains the variance** in the data. If a multivariate dataset is visualised as a set of coordinates in a high-dimensional data space (1 axis per variable), PCA can supply the user with a lower-dimensional picture, a projection of this object when viewed from its most informative viewpoint. This is done by **using only the first few principal components** so that the **dimensionality** of the transformed data is **reduced**."
   ]
  },
  {
   "cell_type": "code",
   "execution_count": 24,
   "metadata": {},
   "outputs": [
    {
     "data": {
      "text/plain": [
       "PCA(copy=True, iterated_power='auto', n_components=0.95, random_state=None,\n",
       "  svd_solver='auto', tol=0.0, whiten=False)"
      ]
     },
     "execution_count": 24,
     "metadata": {},
     "output_type": "execute_result"
    }
   ],
   "source": [
    "pca = PCA(.95)\n",
    "pca.fit(x_train)"
   ]
  },
  {
   "cell_type": "code",
   "execution_count": 25,
   "metadata": {},
   "outputs": [
    {
     "data": {
      "text/plain": [
       "(768,)"
      ]
     },
     "execution_count": 25,
     "metadata": {},
     "output_type": "execute_result"
    }
   ],
   "source": [
    "pca.explained_variance_ratio_.shape"
   ]
  },
  {
   "cell_type": "code",
   "execution_count": 26,
   "metadata": {},
   "outputs": [
    {
     "data": {
      "image/png": "[encoded data removed]",
      "text/plain": [
       "<Figure size 432x288 with 1 Axes>"
      ]
     },
     "metadata": {},
     "output_type": "display_data"
    }
   ],
   "source": [
    "fig = plt.figure(figsize=(6,4))\n",
    "ax1 = fig.add_subplot(111)\n",
    "\n",
    "ax1.plot(np.cumsum(pca.explained_variance_ratio_))\n",
    "\n",
    "ax1.set_ylim([0,1.0])\n",
    "\n",
    "ax1.set_xlabel('Number of Principal Components')\n",
    "ax1.set_ylabel('Cumulative explained variance')\n",
    "ax1.set_title('Explained Variance')\n",
    "\n",
    "plt.show()"
   ]
  },
  {
   "cell_type": "code",
   "execution_count": 27,
   "metadata": {},
   "outputs": [],
   "source": [
    "x_train_transform = pca.transform(x_train)"
   ]
  },
  {
   "cell_type": "code",
   "execution_count": 28,
   "metadata": {},
   "outputs": [
    {
     "data": {
      "text/plain": [
       "(13624, 768)"
      ]
     },
     "execution_count": 28,
     "metadata": {},
     "output_type": "execute_result"
    }
   ],
   "source": [
    "x_train_transform.shape"
   ]
  },
  {
   "cell_type": "markdown",
   "metadata": {},
   "source": [
    "### Search for the best classifier\n",
    "\n",
    "We will try a few classifiers just to pick some of them for additional tuning. "
   ]
  },
  {
   "cell_type": "code",
   "execution_count": 30,
   "metadata": {},
   "outputs": [
    {
     "name": "stdout",
     "output_type": "stream",
     "text": [
      "LogisticRegression(C=1.0, class_weight=None, dual=False, fit_intercept=True,\n",
      "          intercept_scaling=1, max_iter=100, multi_class='ovr', n_jobs=1,\n",
      "          penalty='l2', random_state=None, solver='lbfgs', tol=0.0001,\n",
      "          verbose=0, warm_start=False)\n",
      "Learning time: 8.13sec\n",
      "Scoring time: 0.01sec\n",
      "Model score: 0.7825363825363826\n",
      "KNeighborsClassifier(algorithm='auto', leaf_size=30, metric='minkowski',\n",
      "           metric_params=None, n_jobs=1, n_neighbors=5, p=2,\n",
      "           weights='uniform')\n",
      "Learning time: 0.87sec\n",
      "Scoring time: 49.29sec\n",
      "Model score: 0.5322245322245323\n",
      "GaussianNB(priors=None)\n",
      "Learning time: 0.28sec\n",
      "Scoring time: 0.32sec\n",
      "Model score: 0.6806652806652806\n",
      "DecisionTreeClassifier(class_weight=None, criterion='gini', max_depth=None,\n",
      "            max_features=None, max_leaf_nodes=None,\n",
      "            min_impurity_decrease=0.0, min_impurity_split=None,\n",
      "            min_samples_leaf=1, min_samples_split=2,\n",
      "            min_weight_fraction_leaf=0.0, presort=False, random_state=None,\n",
      "            splitter='best')\n",
      "Learning time: 24.05sec\n",
      "Scoring time: 0.01sec\n",
      "Model score: 0.6989604989604989\n",
      "RandomForestClassifier(bootstrap=True, class_weight=None, criterion='gini',\n",
      "            max_depth=None, max_features='auto', max_leaf_nodes=None,\n",
      "            min_impurity_decrease=0.0, min_impurity_split=None,\n",
      "            min_samples_leaf=1, min_samples_split=2,\n",
      "            min_weight_fraction_leaf=0.0, n_estimators=10, n_jobs=1,\n",
      "            oob_score=False, random_state=None, verbose=0,\n",
      "            warm_start=False)\n",
      "Learning time: 4.37sec\n",
      "Scoring time: 0.02sec\n",
      "Model score: 0.6020790020790021\n",
      "QuadraticDiscriminantAnalysis(priors=None, reg_param=0.0,\n",
      "               store_covariance=False, store_covariances=None, tol=0.0001)\n",
      "Learning time: 2.32sec\n",
      "Scoring time: 0.62sec\n",
      "Model score: 0.6607068607068607\n",
      "AdaBoostClassifier(algorithm='SAMME.R', base_estimator=None,\n",
      "          learning_rate=1.0, n_estimators=10, random_state=None)\n",
      "Learning time: 16.16sec\n",
      "Scoring time: 0.03sec\n",
      "Model score: 0.49521829521829525\n",
      "LinearSVC(C=1.0, class_weight=None, dual=True, fit_intercept=True,\n",
      "     intercept_scaling=1, loss='squared_hinge', max_iter=1000,\n",
      "     multi_class='ovr', penalty='l2', random_state=None, tol=0.0001,\n",
      "     verbose=0)\n",
      "Learning time: 62.38sec\n",
      "Scoring time: 0.01sec\n",
      "Model score: 0.7621621621621621\n",
      "SVC(C=1.0, cache_size=200, class_weight=None, coef0=0.0,\n",
      "  decision_function_shape='ovr', degree=3, gamma='auto', kernel='rbf',\n",
      "  max_iter=-1, probability=False, random_state=None, shrinking=True,\n",
      "  tol=0.001, verbose=False)\n",
      "Learning time: 92.12sec\n",
      "Scoring time: 23.53sec\n",
      "Model score: 0.8577962577962578\n"
     ]
    }
   ],
   "source": [
    "classifiers = [\n",
    "    LogisticRegression(solver = 'lbfgs'),\n",
    "    KNeighborsClassifier(),\n",
    "    GaussianNB(),\n",
    "    DecisionTreeClassifier(),\n",
    "    RandomForestClassifier(),\n",
    "    QuadraticDiscriminantAnalysis(),\n",
    "    AdaBoostClassifier(n_estimators=10),\n",
    "    LinearSVC(),\n",
    "    SVC()\n",
    "]\n",
    "\n",
    "\n",
    "x_cv_transform = pca.transform(x_cv)\n",
    "for clf in classifiers:\n",
    "    print(clf)\n",
    "    fit_start = time.time()\n",
    "    clf.fit(x_train_transform, y_train)\n",
    "    fit_end = time.time()\n",
    "    print(\"Learning time:\", str(round(fit_end - fit_start, 2))+\"sec\")\n",
    "    score_start = time.time()\n",
    "    score = clf.score(x_cv_transform, y_cv)\n",
    "    score_end = time.time()\n",
    "    print(\"Scoring time:\", str(round(score_end - score_start, 2))+\"sec\")\n",
    "    print(\"Model score:\",score)"
   ]
  },
  {
   "cell_type": "markdown",
   "metadata": {},
   "source": [
    "### Tuning the model"
   ]
  },
  {
   "cell_type": "markdown",
   "metadata": {},
   "source": [
    "In scikit-learn 'C' parameter is inverse of lambda. \n",
    "1. Increasing C ⇒ weaker regularization\n",
    "    The algorithm follows the data more closely\n",
    "1. Decreasing C ⇒ stronger regularization\n",
    "    The algorithm \"doesn't care too much about the data\"\n",
    "    \n",
    "Regularization types\n",
    "1. L2 regularization - Shrinks all model weights by the same value\n",
    "1. L1 regularization – Sets some coefficients to 0: feature selection"
   ]
  },
  {
   "cell_type": "markdown",
   "metadata": {},
   "source": [
    "For Gaussian SVM classifier we are increasing C parameter in order to follow the data more closely.\n",
    "\n",
    "The fit time complexity is more than quadratic with the number of samples which makes it hard to scale to dataset with more than a couple of 10000 samples. \n",
    "\n",
    "The multiclass support is handled according to a one-vs-one scheme."
   ]
  },
  {
   "cell_type": "code",
   "execution_count": 31,
   "metadata": {},
   "outputs": [
    {
     "data": {
      "text/plain": [
       "SVC(C=2, cache_size=200, class_weight=None, coef0=0.0,\n",
       "  decision_function_shape='ovr', degree=3, gamma='auto', kernel='rbf',\n",
       "  max_iter=-1, probability=False, random_state=None, shrinking=True,\n",
       "  tol=0.001, verbose=False)"
      ]
     },
     "execution_count": 31,
     "metadata": {},
     "output_type": "execute_result"
    }
   ],
   "source": [
    "svc_classifier = SVC(C=2)\n",
    "svc_classifier.fit(x_train_transform, y_train)"
   ]
  },
  {
   "cell_type": "code",
   "execution_count": 32,
   "metadata": {},
   "outputs": [
    {
     "name": "stdout",
     "output_type": "stream",
     "text": [
      "SVC; score: 0.8636174636174636\n"
     ]
    }
   ],
   "source": [
    "print(\"SVC; score:\", svc_classifier.score(x_cv_transform, y_cv))"
   ]
  },
  {
   "cell_type": "markdown",
   "metadata": {},
   "source": [
    "Linear Support Vector Classification.\n",
    "\n",
    "Similar to SVC with parameter kernel=’linear’, but implemented in terms of liblinear rather than libsvm, so it has more flexibility in the choice of penalties and loss functions and should scale better to large numbers of samples.\n",
    "\n",
    "This class supports both dense and sparse input and the multiclass support is handled according to a one-vs-the-rest scheme."
   ]
  },
  {
   "cell_type": "code",
   "execution_count": 33,
   "metadata": {},
   "outputs": [
    {
     "data": {
      "text/plain": [
       "LinearSVC(C=2, class_weight=None, dual=True, fit_intercept=True,\n",
       "     intercept_scaling=1, loss='squared_hinge', max_iter=1000,\n",
       "     multi_class='ovr', penalty='l2', random_state=None, tol=0.0001,\n",
       "     verbose=0)"
      ]
     },
     "execution_count": 33,
     "metadata": {},
     "output_type": "execute_result"
    }
   ],
   "source": [
    "linear_svc_classifier = LinearSVC(C=2)\n",
    "linear_svc_classifier.fit(x_train_transform, y_train)"
   ]
  },
  {
   "cell_type": "code",
   "execution_count": 34,
   "metadata": {},
   "outputs": [
    {
     "name": "stdout",
     "output_type": "stream",
     "text": [
      "linear_svc_classifier; score: 0.7592515592515593\n"
     ]
    }
   ],
   "source": [
    "print(\"linear_svc_classifier; score:\", linear_svc_classifier.score(x_cv_transform, y_cv))"
   ]
  },
  {
   "cell_type": "markdown",
   "metadata": {},
   "source": [
    "**Grid Search with Cross Validation**\n",
    "\n",
    "We will use cross-validation to train and optimize the hyperparameters some of the classifiers.\n",
    "\n",
    "Random search allowed us to narrow down the range for each hyperparameter. Now that we know where to concentrate our search, we can explicitly specify every combination of settings to try. We do this with GridSearchCV, a method that, instead of sampling randomly from a distribution, evaluates all combinations we define. "
   ]
  },
  {
   "cell_type": "markdown",
   "metadata": {},
   "source": [
    "**RandomForestClassifier**\n",
    "\n",
    "A random forest is a meta estimator that fits a number of decision tree classifiers on various sub-samples of the dataset and uses averaging to improve the predictive accuracy and control over-fitting."
   ]
  },
  {
   "cell_type": "code",
   "execution_count": 35,
   "metadata": {},
   "outputs": [
    {
     "name": "stdout",
     "output_type": "stream",
     "text": [
      "Random forest; best score: 0.7860393423370523\n"
     ]
    }
   ],
   "source": [
    "grid_search_params = {\"n_estimators\": [50, 100],#20,30,40\n",
    "                 \"max_depth\": [300]} #100, 200\n",
    "grid_search = GridSearchCV(estimator = RandomForestClassifier(), param_grid = grid_search_params, cv=3)\n",
    "grid_search.fit(x_train_transform, y_train)\n",
    "\n",
    "forest_classifier = grid_search.best_estimator_\n",
    "\n",
    "print(\"Random forest; best score:\", grid_search.best_score_)"
   ]
  },
  {
   "cell_type": "code",
   "execution_count": 36,
   "metadata": {},
   "outputs": [
    {
     "name": "stdout",
     "output_type": "stream",
     "text": [
      "Random forest; best params: {'max_depth': 300, 'n_estimators': 100}\n"
     ]
    }
   ],
   "source": [
    "print(\"Random forest; best params:\", grid_search.best_params_)"
   ]
  },
  {
   "cell_type": "markdown",
   "metadata": {},
   "source": [
    "**LogisticRegression**\n",
    "\n",
    "In the multiclass case, the training algorithm uses the one-vs-rest (OvR) scheme if the ‘multi_class’ option is set to ‘ovr’, and uses the cross- entropy loss if the ‘multi_class’ option is set to ‘multinomial’"
   ]
  },
  {
   "cell_type": "code",
   "execution_count": 37,
   "metadata": {},
   "outputs": [
    {
     "name": "stdout",
     "output_type": "stream",
     "text": [
      "LogisticRegression; best score: 0.8138578978273635\n"
     ]
    }
   ],
   "source": [
    "tuned_params = [{\"C\": [0.001, 0.01, 1, 10], \n",
    "                 \"max_iter\": [10, 20, 30, 50, 100], \n",
    "                 \"fit_intercept\": [True, False]\n",
    "                }]\n",
    "grid_search = GridSearchCV(LogisticRegression(solver='lbfgs'), tuned_params)\n",
    "grid_search.fit(x_train_transform, y_train)\n",
    "\n",
    "logisticRegression_classifier = grid_search.best_estimator_\n",
    "\n",
    "print(\"LogisticRegression; best score:\", grid_search.best_score_)"
   ]
  },
  {
   "cell_type": "code",
   "execution_count": 38,
   "metadata": {},
   "outputs": [
    {
     "data": {
      "text/plain": [
       "{'C': 0.01, 'fit_intercept': True, 'max_iter': 20}"
      ]
     },
     "execution_count": 38,
     "metadata": {},
     "output_type": "execute_result"
    }
   ],
   "source": [
    "grid_search.best_params_"
   ]
  },
  {
   "cell_type": "markdown",
   "metadata": {},
   "source": [
    "### Measuring Model Performance\n",
    "\n",
    "Now we will score the models:\n",
    "\n",
    "Estimator score method: Estimators have a score method providing a default evaluation criterion for the problem they are designed to solve. "
   ]
  },
  {
   "cell_type": "code",
   "execution_count": 39,
   "metadata": {},
   "outputs": [],
   "source": [
    "x_test_transform = pca.transform(x_test)"
   ]
  },
  {
   "cell_type": "code",
   "execution_count": 40,
   "metadata": {},
   "outputs": [
    {
     "name": "stdout",
     "output_type": "stream",
     "text": [
      "RandomForestClassifier accuracy score 0.8059679767103348\n"
     ]
    }
   ],
   "source": [
    "forest_classifier_score = forest_classifier.score(x_test_transform, y_test)\n",
    "print(\"RandomForestClassifier accuracy score\", forest_classifier_score)"
   ]
  },
  {
   "cell_type": "code",
   "execution_count": 41,
   "metadata": {},
   "outputs": [
    {
     "name": "stdout",
     "output_type": "stream",
     "text": [
      "RandomForestClassifier F1 score 0.8059679767103347\n"
     ]
    }
   ],
   "source": [
    "forest_classifier_y_pred = forest_classifier.predict(x_test_transform)\n",
    "print(\"RandomForestClassifier F1 score\", f1_score(y_test, forest_classifier_y_pred, average = \"micro\"))"
   ]
  },
  {
   "cell_type": "code",
   "execution_count": 42,
   "metadata": {},
   "outputs": [
    {
     "name": "stdout",
     "output_type": "stream",
     "text": [
      "LogisticRegression accuracy score 0.8161572052401747\n"
     ]
    }
   ],
   "source": [
    "logisticRegression_classifier_score = logisticRegression_classifier.score(x_test_transform, y_test)\n",
    "print(\"LogisticRegression accuracy score\", logisticRegression_classifier_score)"
   ]
  },
  {
   "cell_type": "code",
   "execution_count": 43,
   "metadata": {},
   "outputs": [
    {
     "name": "stdout",
     "output_type": "stream",
     "text": [
      "LogisticRegression F1 score 0.8161572052401747\n"
     ]
    }
   ],
   "source": [
    "logisticRegression_classifier_y_pred = logisticRegression_classifier.predict(x_test_transform)\n",
    "print(\"LogisticRegression F1 score\", f1_score(y_test, logisticRegression_classifier_y_pred, average = \"micro\"))"
   ]
  },
  {
   "cell_type": "code",
   "execution_count": 44,
   "metadata": {},
   "outputs": [
    {
     "name": "stdout",
     "output_type": "stream",
     "text": [
      "Gaussian SVM accuracy score 0.8576419213973799\n"
     ]
    }
   ],
   "source": [
    "svc_classifier_score = svc_classifier.score(x_test_transform, y_test)\n",
    "print(\"Gaussian SVM accuracy score\", svc_classifier_score)"
   ]
  },
  {
   "cell_type": "code",
   "execution_count": 45,
   "metadata": {},
   "outputs": [
    {
     "name": "stdout",
     "output_type": "stream",
     "text": [
      "Gaussian SVM F1 score 0.8576419213973799\n"
     ]
    }
   ],
   "source": [
    "svc_classifier_y_pred = svc_classifier.predict(x_test_transform)\n",
    "print(\"Gaussian SVM F1 score\", f1_score(y_test, svc_classifier_y_pred, average = \"micro\"))"
   ]
  },
  {
   "cell_type": "code",
   "execution_count": 46,
   "metadata": {},
   "outputs": [],
   "source": [
    "# https://www.kaggle.com/grfiv4/plot-a-confusion-matrix\n",
    "\n",
    "def plot_confusion_matrix(cm,\n",
    "                          target_names,\n",
    "                          title='Confusion matrix',\n",
    "                          cmap=None,\n",
    "                          normalize=True):\n",
    "\n",
    "    accuracy = np.trace(cm) / float(np.sum(cm))\n",
    "    misclass = 1 - accuracy\n",
    "\n",
    "    if cmap is None:\n",
    "        cmap = plt.get_cmap('Blues')\n",
    "\n",
    "    plt.figure(figsize=(8, 6))\n",
    "    plt.imshow(cm, interpolation='nearest', cmap=cmap)\n",
    "    plt.title(title)\n",
    "    plt.colorbar()\n",
    "\n",
    "    if target_names is not None:\n",
    "        tick_marks = np.arange(len(target_names))\n",
    "        plt.xticks(tick_marks, target_names, rotation=45)\n",
    "        plt.yticks(tick_marks, target_names)\n",
    "\n",
    "    if normalize:\n",
    "        cm = cm.astype('float') / cm.sum(axis=1)[:, np.newaxis]\n",
    "\n",
    "\n",
    "    thresh = cm.max() / 1.5 if normalize else cm.max() / 2\n",
    "    for i, j in itertools.product(range(cm.shape[0]), range(cm.shape[1])):\n",
    "        if normalize:\n",
    "            plt.text(j, i, \"{:0.2f}\".format(cm[i, j]),\n",
    "                     horizontalalignment=\"center\",\n",
    "                     color=\"white\" if cm[i, j] > thresh else \"black\")\n",
    "        else:\n",
    "            plt.text(j, i, \"{:,}\".format(cm[i, j]),\n",
    "                     horizontalalignment=\"center\",\n",
    "                     color=\"white\" if cm[i, j] > thresh else \"black\")\n",
    "\n",
    "\n",
    "    plt.tight_layout()\n",
    "    plt.ylabel('True label')\n",
    "    plt.xlabel('Predicted label\\naccuracy={:0.2f}; misclass={:0.2f}'.format(accuracy, misclass))\n",
    "    plt.show()"
   ]
  },
  {
   "cell_type": "markdown",
   "metadata": {},
   "source": [
    "Gaussian SVM Confusion matrix"
   ]
  },
  {
   "cell_type": "code",
   "execution_count": 47,
   "metadata": {},
   "outputs": [
    {
     "data": {
      "image/png": "[encoded data removed]",
      "text/plain": [
       "<Figure size 576x432 with 2 Axes>"
      ]
     },
     "metadata": {},
     "output_type": "display_data"
    }
   ],
   "source": [
    "cnf_matrix = confusion_matrix(y_test, svc_classifier_y_pred)\n",
    "plot_confusion_matrix(cnf_matrix, svc_classifier.classes_, title =\"Gaussian SVM Confusion matrix\", normalize=True)"
   ]
  },
  {
   "cell_type": "markdown",
   "metadata": {},
   "source": [
    "LogisticRegression Confusion matrix"
   ]
  },
  {
   "cell_type": "code",
   "execution_count": 48,
   "metadata": {},
   "outputs": [
    {
     "data": {
      "image/png": "[encoded data removed]",
      "text/plain": [
       "<Figure size 576x432 with 2 Axes>"
      ]
     },
     "metadata": {},
     "output_type": "display_data"
    }
   ],
   "source": [
    "cnf_matrix = confusion_matrix(y_test, logisticRegression_classifier_y_pred)\n",
    "plot_confusion_matrix(cnf_matrix, logisticRegression_classifier.classes_, title =\"LogisticRegression Confusion matrix\", normalize=True)"
   ]
  },
  {
   "cell_type": "code",
   "execution_count": 49,
   "metadata": {},
   "outputs": [],
   "source": [
    "# http://scikit-learn.org/stable/auto_examples/model_selection/plot_learning_curve.html\n",
    "\n",
    "def plot_learning_curve(estimator, title, X, y, ylim=None, cv=None,\n",
    "                        n_jobs=None, train_sizes=np.linspace(.1, 1.0, 5)):\n",
    "    plt.figure()\n",
    "    plt.title(title)\n",
    "    if ylim is not None:\n",
    "        plt.ylim(*ylim)\n",
    "    plt.xlabel(\"Training examples\")\n",
    "    plt.ylabel(\"Score\")\n",
    "    train_sizes, train_scores, test_scores = learning_curve(\n",
    "        estimator, X, y, cv=cv, n_jobs=n_jobs, train_sizes=train_sizes)\n",
    "    train_scores_mean = np.mean(train_scores, axis=1)\n",
    "    train_scores_std = np.std(train_scores, axis=1)\n",
    "    test_scores_mean = np.mean(test_scores, axis=1)\n",
    "    test_scores_std = np.std(test_scores, axis=1)\n",
    "    plt.grid()\n",
    "\n",
    "    plt.fill_between(train_sizes, train_scores_mean - train_scores_std,\n",
    "                     train_scores_mean + train_scores_std, alpha=0.1,\n",
    "                     color=\"r\")\n",
    "    plt.fill_between(train_sizes, test_scores_mean - test_scores_std,\n",
    "                     test_scores_mean + test_scores_std, alpha=0.1, color=\"g\")\n",
    "    plt.plot(train_sizes, train_scores_mean, 'o-', color=\"r\",\n",
    "             label=\"Training score\")\n",
    "    plt.plot(train_sizes, test_scores_mean, 'o-', color=\"g\",\n",
    "             label=\"Cross-validation score\")\n",
    "\n",
    "    plt.legend(loc=\"best\")\n",
    "    return plt"
   ]
  },
  {
   "cell_type": "code",
   "execution_count": 50,
   "metadata": {},
   "outputs": [
    {
     "data": {
      "image/png": "[encoded data removed]",
      "text/plain": [
       "<Figure size 432x288 with 1 Axes>"
      ]
     },
     "metadata": {},
     "output_type": "display_data"
    }
   ],
   "source": [
    "title = \"Learning Curves LogisticRegression\"\n",
    "plot_learning_curve(logisticRegression_classifier, title, x_train_transform, y_train, cv=10, n_jobs=5)\n",
    "plt.show()"
   ]
  },
  {
   "cell_type": "markdown",
   "metadata": {},
   "source": [
    "Obviously, the gap between the two curves is large, which indicates high variance (overfitting). Possible solutions are removing model features (preprocessing improvement /feature selection /feature engineering, etc.), increase regularization (decreasing C)."
   ]
  },
  {
   "cell_type": "markdown",
   "metadata": {},
   "source": [
    "### Predictions\n",
    "\n",
    "Few examples of the trained LogisticRegression model's predictions on the test data. For each drawing are shown top 3 predicted categories ordered by probability estimates."
   ]
  },
  {
   "cell_type": "code",
   "execution_count": 53,
   "metadata": {},
   "outputs": [
    {
     "data": {
      "image/png": "[encoded data removed]",
      "text/plain": [
       "<Figure size 1152x1152 with 12 Axes>"
      ]
     },
     "metadata": {},
     "output_type": "display_data"
    }
   ],
   "source": [
    "predict_proba = logisticRegression_classifier.predict_proba(x_test_transform[0:12])\n",
    "y = []\n",
    "i = 0\n",
    "plt.figure(figsize=(16,16))\n",
    "for index, prob in enumerate(predict_proba):\n",
    "    plt.subplot(3,4,index+1)\n",
    "    image = x_test[index].reshape((IMAGE_SIZE, IMAGE_SIZE))\n",
    "    max_prob = logisticRegression_classifier.classes_[prob.argsort()[-3:][::-1]]\n",
    "    y_str = ' '.join(str(x).replace(\" \", \"_\") for x in max_prob)\n",
    "    #print()\n",
    "    plt.imshow(image,  cmap='gray')\n",
    "    plt.title(str(y_test[index] + \": \" + y_str))\n",
    "    plt.axis('off')\n",
    "    y.append(y_str)\n",
    "    i += 1\n",
    "plt.show()"
   ]
  },
  {
   "cell_type": "markdown",
   "metadata": {},
   "source": [
    "### Conclusion\n",
    "\n",
    "We took a small part of the Doodle dataset to experiment with training a model for recognizing them. A normalization was applied on the drawings by presenting them in binary images. PCA was used to reduce the dimension of the data. Different classifiers were tried on the validation data just to pick some of them for further tuning. The best models we trained were Logistic Regression and Gaussian SVM (support vector machine). They scored over 80% on the test data.\n",
    "\n",
    "Future work will be simplifing the input data even more and training a neural network on more data.\n"
   ]
  },
  {
   "cell_type": "markdown",
   "metadata": {},
   "source": [
    "### References\n",
    "\n",
    "http://scikit-learn.org\n",
    "\n",
    "https://www.kaggle.com/c/quickdraw-doodle-recognition/data\n",
    "\n",
    "https://softuni.bg/trainings/1920/machine-learning-august-2018\n",
    "\n",
    "https://towardsdatascience.com/hyperparameter-tuning-the-random-forest-in-python-using-scikit-learn-28d2aa77dd74\n",
    "\n",
    "https://towardsdatascience.com/pca-using-python-scikit-learn-e653f8989e60\n",
    "\n",
    "https://charlesreid1.github.io/circe/Digit%20Classification%20-%20PCA.html\n",
    "\n",
    "https://en.wikipedia.org/"
   ]
  },
  {
   "cell_type": "code",
   "execution_count": null,
   "metadata": {},
   "outputs": [],
   "source": []
  }
 ],
 "metadata": {
  "kernelspec": {
   "display_name": "Python 3",
   "language": "python",
   "name": "python3"
  },
  "language_info": {
   "codemirror_mode": {
    "name": "ipython",
    "version": 3
   },
   "file_extension": ".py",
   "mimetype": "text/x-python",
   "name": "python",
   "nbconvert_exporter": "python",
   "pygments_lexer": "ipython3",
   "version": "3.6.5"
  }
 },
 "nbformat": 4,
 "nbformat_minor": 2
}
